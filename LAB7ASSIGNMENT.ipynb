{
 "cells": [
  {
   "cell_type": "markdown",
   "metadata": {},
   "source": [
    "# 1 INTRODUCTION\n",
    "### PROBLEM STATEMENT\n",
    "### Evaluation of an MNIST Classification model with three classes that we learnt in class. we will be accessing our data from web sources using SKLEARN fetch_openml package and also we will be adapting some code snippets from kaggle."
   ]
  },
  {
   "cell_type": "markdown",
   "metadata": {},
   "source": [
    "### Accessing the data"
   ]
  },
  {
   "cell_type": "code",
   "execution_count": 20,
   "metadata": {},
   "outputs": [],
   "source": [
    "# Load all necessary packages that will be used\n",
    "import numpy as np\n",
    "\n",
    "# plotting modules\n",
    "from matplotlib import pyplot as plt\n",
    "import matplotlib.patches as patches  # for curved arrows\n",
    "import seaborn as sns\n",
    "\n",
    "# The web source of the MNIST dataset that we will work with\n",
    "from sklearn.datasets import fetch_openml\n",
    "\n",
    "# The classifiers we will use in this notebook\n",
    "from sklearn.linear_model import SGDClassifier\n",
    "from sklearn.dummy import DummyClassifier\n",
    "from sklearn.ensemble import RandomForestClassifier\n",
    "\n",
    "# cross validation functions\n",
    "from sklearn.model_selection import cross_validate, cross_val_predict\n",
    "\n",
    "# performance metrics\n",
    "from sklearn.metrics import confusion_matrix, precision_score, recall_score, f1_score, precision_recall_curve, roc_curve, roc_auc_score"
   ]
  },
  {
   "cell_type": "code",
   "execution_count": 21,
   "metadata": {},
   "outputs": [
    {
     "data": {
      "text/plain": [
       "sklearn.utils._bunch.Bunch"
      ]
     },
     "execution_count": 21,
     "metadata": {},
     "output_type": "execute_result"
    }
   ],
   "source": [
    "mnist = fetch_openml('mnist_784', as_frame=False, parser='auto')\n",
    "type(mnist)"
   ]
  },
  {
   "cell_type": "markdown",
   "metadata": {},
   "source": [
    "# 2 EXPLORATORY DATA ANALYSIS"
   ]
  },
  {
   "cell_type": "code",
   "execution_count": 22,
   "metadata": {},
   "outputs": [
    {
     "data": {
      "text/plain": [
       "['data',\n",
       " 'target',\n",
       " 'frame',\n",
       " 'categories',\n",
       " 'feature_names',\n",
       " 'target_names',\n",
       " 'DESCR',\n",
       " 'details',\n",
       " 'url']"
      ]
     },
     "execution_count": 22,
     "metadata": {},
     "output_type": "execute_result"
    }
   ],
   "source": [
    "list(mnist)"
   ]
  },
  {
   "cell_type": "code",
   "execution_count": 23,
   "metadata": {},
   "outputs": [
    {
     "data": {
      "text/plain": [
       "(70000, 784)"
      ]
     },
     "execution_count": 23,
     "metadata": {},
     "output_type": "execute_result"
    }
   ],
   "source": [
    "mnist.data.shape"
   ]
  },
  {
   "cell_type": "code",
   "execution_count": 24,
   "metadata": {},
   "outputs": [
    {
     "name": "stdout",
     "output_type": "stream",
     "text": [
      "5 0 4\n"
     ]
    }
   ],
   "source": [
    "print(mnist.target[0], mnist.target[1], mnist.target[2])"
   ]
  },
  {
   "cell_type": "code",
   "execution_count": 25,
   "metadata": {},
   "outputs": [],
   "source": [
    "# Rename objects to familiar naming conventions\n",
    "X = mnist.data\n",
    "y = mnist.target"
   ]
  },
  {
   "cell_type": "markdown",
   "metadata": {},
   "source": [
    "### Image inspection"
   ]
  },
  {
   "cell_type": "code",
   "execution_count": 26,
   "metadata": {},
   "outputs": [],
   "source": [
    "def plot_digit(image_data):\n",
    "    image = image_data.reshape(28, 28)\n",
    "    plt.imshow(image, cmap=\"binary\")\n",
    "    plt.axis(\"off\")"
   ]
  },
  {
   "cell_type": "code",
   "execution_count": 27,
   "metadata": {},
   "outputs": [
    {
     "data": {
      "image/png": "[encoded data removed]",
      "text/plain": [
       "<Figure size 640x480 with 1 Axes>"
      ]
     },
     "metadata": {},
     "output_type": "display_data"
    }
   ],
   "source": [
    "some_digit = X[ 230] # here we are using a random image  of index 230 in the dataset just to see what the image looks like\n",
    "plot_digit(some_digit)\n",
    "plt.show()"
   ]
  },
  {
   "cell_type": "markdown",
   "metadata": {},
   "source": [
    "# 3 DATA PREPROCESSING"
   ]
  },
  {
   "cell_type": "code",
   "execution_count": 28,
   "metadata": {},
   "outputs": [
    {
     "name": "stdout",
     "output_type": "stream",
     "text": [
      "Original number of samples: 70000\n",
      "Filtered number of samples: 21258\n",
      "Original target labels: ['0' '1' '2' '3' '4' '5' '6' '7' '8' '9']\n",
      "Filtered target labels: [0 1 2]\n"
     ]
    }
   ],
   "source": [
    "import numpy as np\n",
    "\n",
    "# Define desired classes\n",
    "desired_classes = [3, 4, 7]\n",
    "\n",
    "# Convert target labels to integers\n",
    "y_int = y.astype(int)\n",
    "\n",
    "# Filter the dataset to include only samples with target labels 3, 4, and 7\n",
    "mask = np.isin(y_int, desired_classes)\n",
    "X_filtered = X[mask]\n",
    "y_filtered = y_int[mask]\n",
    "\n",
    "# Update target labels to start from 0\n",
    "class_mapping = {desired_classes[i]: i for i in range(len(desired_classes))}\n",
    "y_filtered_mapped = np.array([class_mapping[label] for label in y_filtered])\n",
    "\n",
    "# Verify alignment\n",
    "print(\"Original number of samples:\", len(X))\n",
    "print(\"Filtered number of samples:\", len(X_filtered))\n",
    "print(\"Original target labels:\", np.unique(y))\n",
    "print(\"Filtered target labels:\", np.unique(y_filtered_mapped))\n",
    "\n"
   ]
  },
  {
   "cell_type": "markdown",
   "metadata": {},
   "source": [
    "### The original dataset contained 70,000 samples.After filtering to include only samples with target labels 3, 4, and 7, the filtered dataset contains 21,258 samples. We just wanted to check for proper alignment with this"
   ]
  },
  {
   "cell_type": "markdown",
   "metadata": {},
   "source": [
    "### SPLIT OUR DATA INTO TRAINING AND TESTING SETS"
   ]
  },
  {
   "cell_type": "code",
   "execution_count": 29,
   "metadata": {},
   "outputs": [
    {
     "name": "stdout",
     "output_type": "stream",
     "text": [
      "Train set size: 12754\n",
      "Validation set size: 4252\n",
      "Test set size: 4252\n"
     ]
    }
   ],
   "source": [
    "from sklearn.model_selection import train_test_split\n",
    "\n",
    "# Split the dataset into train and test sets (80% train, 20% test)\n",
    "X_train, X_test, y_train, y_test = train_test_split(X_filtered, y_filtered_mapped, test_size=0.2, random_state=42)\n",
    "\n",
    "# Further split the train set into train and validation sets (75% train, 25% validation)\n",
    "X_train, X_val, y_train, y_val = train_test_split(X_train, y_train, test_size=0.25, random_state=42)\n",
    "\n",
    "# Print the sizes of the resulting sets\n",
    "print(\"Train set size:\", len(X_train))\n",
    "print(\"Validation set size:\", len(X_val))\n",
    "print(\"Test set size:\", len(X_test))\n"
   ]
  },
  {
   "cell_type": "markdown",
   "metadata": {},
   "source": [
    "# 4 MODEL TRAINING"
   ]
  },
  {
   "cell_type": "code",
   "execution_count": 30,
   "metadata": {},
   "outputs": [
    {
     "name": "stdout",
     "output_type": "stream",
     "text": [
      "Validation Accuracy: 0.9717779868297272\n"
     ]
    }
   ],
   "source": [
    "\n",
    "from sklearn.linear_model import LogisticRegression\n",
    "\n",
    "# Initialize logistic regression model\n",
    "model = LogisticRegression(max_iter=1000, random_state=42)\n",
    "\n",
    "# Fit the model to the training data\n",
    "model.fit(X_train, y_train)\n",
    "\n",
    "# Evaluate the model on the validation set\n",
    "val_score = model.score(X_val, y_val)\n",
    "print(\"Validation Accuracy:\", val_score)\n",
    "\n"
   ]
  },
  {
   "cell_type": "markdown",
   "metadata": {},
   "source": [
    "### i modified the snippet i got in kaggle to suit my simplicity for this task. Here is the link:\n",
    "### Ref:\n",
    "### https://www.kaggle.com/code/margartgathon/digit-recognizer"
   ]
  },
  {
   "cell_type": "markdown",
   "metadata": {},
   "source": [
    "# 5 EVALUATION:"
   ]
  },
  {
   "cell_type": "code",
   "execution_count": 31,
   "metadata": {},
   "outputs": [
    {
     "name": "stdout",
     "output_type": "stream",
     "text": [
      "Accuracy: 0.9717779868297272\n",
      "Confusion Matrix:\n",
      "[[1387   17   35]\n",
      " [   5 1359   15]\n",
      " [  26   22 1386]]\n",
      "Classification Report:\n",
      "              precision    recall  f1-score   support\n",
      "\n",
      "           0       0.98      0.96      0.97      1439\n",
      "           1       0.97      0.99      0.98      1379\n",
      "           2       0.97      0.97      0.97      1434\n",
      "\n",
      "    accuracy                           0.97      4252\n",
      "   macro avg       0.97      0.97      0.97      4252\n",
      "weighted avg       0.97      0.97      0.97      4252\n",
      "\n"
     ]
    },
    {
     "data": {
      "image/png": "[encoded data removed]",
      "text/plain": [
       "<Figure size 640x480 with 1 Axes>"
      ]
     },
     "metadata": {},
     "output_type": "display_data"
    }
   ],
   "source": [
    "from sklearn.metrics import accuracy_score, confusion_matrix, classification_report, precision_recall_curve\n",
    "import matplotlib.pyplot as plt\n",
    "\n",
    "# Evaluate accuracy\n",
    "val_pred = model.predict(X_val)\n",
    "accuracy = accuracy_score(y_val, val_pred)\n",
    "print(\"Accuracy:\", accuracy)\n",
    "\n",
    "# Confusion matrix\n",
    "conf_matrix = confusion_matrix(y_val, val_pred)\n",
    "print(\"Confusion Matrix:\")\n",
    "print(conf_matrix)\n",
    "\n",
    "# Precision, recall, and F1-score for each class\n",
    "class_report = classification_report(y_val, val_pred)\n",
    "print(\"Classification Report:\")\n",
    "print(class_report)\n",
    "\n",
    "# Precision-recall curve for class 1 vs. all others\n",
    "# class 1 is selected for the precision-recall curve\n",
    "precision, recall, _ = precision_recall_curve(y_val, model.predict_proba(X_val)[:, 1], pos_label=1)\n",
    "plt.plot(recall, precision, marker='.')\n",
    "plt.xlabel('Recall')\n",
    "plt.ylabel('Precision')\n",
    "plt.title('Precision-Recall Curve for Class 1 vs. All Others')\n",
    "plt.show()\n"
   ]
  },
  {
   "cell_type": "markdown",
   "metadata": {},
   "source": [
    "### To increase precision for a chosen class without retraining the model, we can adjust the decision threshold for classification. By increasing the threshold, you'll classify fewer instances as positive, which may increase precision at the cost of recall.\n",
    "\n",
    "### we will attempt an example demonstrating how to adjust the decision threshold to increase/decrease precision for our chosen class without retraining the model, using the validation data and the logistic regression model:"
   ]
  },
  {
   "cell_type": "code",
   "execution_count": 32,
   "metadata": {},
   "outputs": [
    {
     "name": "stdout",
     "output_type": "stream",
     "text": [
      "Class 0: Precision = 0.49842271293375395, Recall = 0.9881862404447533\n",
      "Class 1: Precision = 0.9714081486776269, Recall = 0.9854967367657723\n",
      "Class 2: Precision = 0.0, Recall = 0.0\n"
     ]
    },
    {
     "name": "stderr",
     "output_type": "stream",
     "text": [
      "c:\\Users\\emekamichael\\courses_conestoga\\venv\\Lib\\site-packages\\sklearn\\metrics\\_classification.py:1497: UndefinedMetricWarning: Precision is ill-defined and being set to 0.0 in labels with no predicted samples. Use `zero_division` parameter to control this behavior.\n",
      "  _warn_prf(average, modifier, f\"{metric.capitalize()} is\", len(result))\n"
     ]
    }
   ],
   "source": [
    "from sklearn.metrics import precision_score, recall_score\n",
    "\n",
    "# Compute precision and recall for each class without specifying average parameter\n",
    "precision_per_class = precision_score(y_val, predicted_class_1, average=None)\n",
    "recall_per_class = recall_score(y_val, predicted_class_1, average=None)\n",
    "\n",
    "# Print precision and recall for each class\n",
    "for i, (precision, recall) in enumerate(zip(precision_per_class, recall_per_class)):\n",
    "    print(f\"Class {i}: Precision = {precision}, Recall = {recall}\")\n",
    "\n",
    "\n",
    "\n"
   ]
  },
  {
   "cell_type": "code",
   "execution_count": 33,
   "metadata": {},
   "outputs": [
    {
     "name": "stdout",
     "output_type": "stream",
     "text": [
      "Precision with new threshold: [0.97140815]\n",
      "Recall with new threshold: [0.98549674]\n"
     ]
    }
   ],
   "source": [
    "from sklearn.metrics import precision_score, recall_score\n",
    "\n",
    "# Assume we want to increase recall for class 1\n",
    "\n",
    "# Adjust the decision threshold\n",
    "new_threshold = 0.3  # Example threshold\n",
    "predicted_class_1 = (proba_class_1 >= new_threshold).astype(int)\n",
    "\n",
    "# Compute precision and recall for class 1 without specifying average parameter\n",
    "precision_new = precision_score(y_val, predicted_class_1, labels=[1], average=None)\n",
    "recall_new = recall_score(y_val, predicted_class_1, labels=[1], average=None)\n",
    "\n",
    "print(\"Precision with new threshold:\", precision_new)\n",
    "print(\"Recall with new threshold:\", recall_new)\n",
    "\n"
   ]
  },
  {
   "cell_type": "code",
   "execution_count": 34,
   "metadata": {},
   "outputs": [
    {
     "name": "stdout",
     "output_type": "stream",
     "text": [
      "Test Accuracy: 0.9708372530573848\n",
      "Confusion Matrix (Test Set):\n",
      "[[1365   14   24]\n",
      " [  14 1342   22]\n",
      " [  25   25 1421]]\n",
      "Classification Report (Test Set):\n",
      "              precision    recall  f1-score   support\n",
      "\n",
      "           0       0.97      0.97      0.97      1403\n",
      "           1       0.97      0.97      0.97      1378\n",
      "           2       0.97      0.97      0.97      1471\n",
      "\n",
      "    accuracy                           0.97      4252\n",
      "   macro avg       0.97      0.97      0.97      4252\n",
      "weighted avg       0.97      0.97      0.97      4252\n",
      "\n"
     ]
    }
   ],
   "source": [
    "from sklearn.metrics import accuracy_score, confusion_matrix, classification_report\n",
    "\n",
    "# Predict labels for the test set\n",
    "test_pred = model.predict(X_test)\n",
    "\n",
    "# Compute accuracy\n",
    "test_accuracy = accuracy_score(y_test, test_pred)\n",
    "print(\"Test Accuracy:\", test_accuracy)\n",
    "\n",
    "# Confusion matrix\n",
    "conf_matrix_test = confusion_matrix(y_test, test_pred)\n",
    "print(\"Confusion Matrix (Test Set):\")\n",
    "print(conf_matrix_test)\n",
    "\n",
    "# Classification report\n",
    "class_report_test = classification_report(y_test, test_pred)\n",
    "print(\"Classification Report (Test Set):\")\n",
    "print(class_report_test)\n"
   ]
  },
  {
   "cell_type": "code",
   "execution_count": 35,
   "metadata": {},
   "outputs": [
    {
     "data": {
      "image/png": "[encoded data removed]",
      "text/plain": [
       "<Figure size 800x600 with 2 Axes>"
      ]
     },
     "metadata": {},
     "output_type": "display_data"
    }
   ],
   "source": [
    "import seaborn as sns\n",
    "\n",
    "# Compute F1-score for each class\n",
    "f1_scores = [0.97, 0.97, 0.97] \n",
    "classes = ['Class 0', 'Class 1', 'Class 2']  # Class labels\n",
    "\n",
    "# Create a heatmap\n",
    "plt.figure(figsize=(8, 6))\n",
    "sns.heatmap([f1_scores], annot=True, fmt='.2f', cmap='Blues', xticklabels=classes, yticklabels=['F1-score'])\n",
    "plt.title('F1-score Heatmap')\n",
    "plt.xlabel('Class')\n",
    "plt.ylabel('Metric')\n",
    "plt.show()\n"
   ]
  },
  {
   "cell_type": "markdown",
   "metadata": {},
   "source": [
    "# 6 CONCLUSION:\n",
    "### Based on the evaluation of the logistic regression model on the test set that was done above, we can draw the following conclusions:\n",
    "\n",
    "### 1: Accuracy: The model achieved a test accuracy of 0.971. This indicates the proportion of correctly classified instances in the test set.\n",
    "\n",
    "### 2: Confusion Matrix: The confusion matrix provides a detailed breakdown of the model's predictions versus the actual labels for each class. It shows the counts of true positives, true negatives, false positives, and false negatives. From the confusion matrix, we can identify which classes the model performs well on and which classes it struggles with.\n",
    "\n",
    "### INTERPRETATION OF CONFUSION MATRIX\n",
    "### Class 0 (True label) vs. Class 0 (Predicted label): 1365 instances were correctly classified as Class 0.\n",
    "\n",
    "### Class 0 (True label) vs. Class 1 (Predicted label): 14 instances of Class 0 were misclassified as Class 1.\n",
    "\n",
    "### Class 0 (True label) vs. Class 2 (Predicted label): 24 instances of Class 0 were misclassified as Class 2.\n",
    "\n",
    "### Class 1 (True label) vs. Class 0 (Predicted label): 14 instances of Class 1 were misclassified as Class 0.\n",
    "\n",
    "### Class 1 (True label) vs. Class 1 (Predicted label): 1342 instances were correctly classified as Class 1.\n",
    "\n",
    "### Class 1 (True label) vs. Class 2 (Predicted label): 22 instances of Class 1 were misclassified as Class 2.\n",
    "\n",
    "### Class 2 (True label) vs. Class 0 (Predicted label): 25 instances of Class 2 were misclassified as Class 0.\n",
    "\n",
    "### Class 2 (True label) vs. Class 1 (Predicted label): 25 instances of Class 2 were misclassified as Class 1.\n",
    "\n",
    "### Class 2 (True label) vs. Class 2 (Predicted label): 1421 instances were correctly classified as Class 2.\n",
    "\n",
    "### Classification Report: The classification report presents precision at 0.97, recall at 0.97, and F1-score 0.97 for each class. Precision measures the accuracy of positive predictions, recall measures the proportion of actual positives that were correctly predicted, and the F1-score is the harmonic(geometric) mean of precision and recall. Support indicates the number of instances of each class in the test set.\n",
    "\n"
   ]
  }
 ],
 "metadata": {
  "kernelspec": {
   "display_name": "venv",
   "language": "python",
   "name": "python3"
  },
  "language_info": {
   "codemirror_mode": {
    "name": "ipython",
    "version": 3
   },
   "file_extension": ".py",
   "mimetype": "text/x-python",
   "name": "python",
   "nbconvert_exporter": "python",
   "pygments_lexer": "ipython3",
   "version": "3.11.7"
  }
 },
 "nbformat": 4,
 "nbformat_minor": 2
}
